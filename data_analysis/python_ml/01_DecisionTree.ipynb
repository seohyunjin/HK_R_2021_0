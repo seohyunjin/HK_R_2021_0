{
 "cells": [
  {
   "cell_type": "markdown",
   "metadata": {},
   "source": [
    "# 결정 트리(Decision Tree)"
   ]
  },
  {
   "cell_type": "code",
   "execution_count": 13,
   "metadata": {},
   "outputs": [],
   "source": [
    "import pandas as pd\n"
   ]
  },
  {
   "cell_type": "code",
   "execution_count": 27,
   "metadata": {},
   "outputs": [],
   "source": [
    "import pandas as pd \n",
    "import numpy as np \n",
    "from sklearn.preprocessing import StandardScaler\n",
    "from sklearn.model_selection import train_test_split\n",
    "from sklearn.model_selection import GridSearchCV\n",
    "from sklearn.metrics import r2_score, mean_squared_error\n"
   ]
  },
  {
   "cell_type": "code",
   "execution_count": 60,
   "metadata": {},
   "outputs": [],
   "source": [
    "plt.rcParams[\"font.family\"] = 'Malgun Gothic'\n",
    "plt.rcParams[\"axes.unicode_minus\"] = False"
   ]
  },
  {
   "cell_type": "code",
   "execution_count": 3,
   "metadata": {},
   "outputs": [],
   "source": [
    "iris = load_iris()\n",
    "X_train, X_test, y_train, y_test = train_test_split(\n",
    "    iris.data, iris.target, test_size=0.2, random_state = 11\n",
    ")"
   ]
  },
  {
   "cell_type": "code",
   "execution_count": 8,
   "metadata": {},
   "outputs": [
    {
     "output_type": "execute_result",
     "data": {
      "text/plain": [
       "DecisionTreeClassifier(random_state=156)"
      ]
     },
     "metadata": {},
     "execution_count": 8
    }
   ],
   "source": [
    "dt_clf = DecisionTreeClassifier(random_state= 156)\n",
    "dt_clf.fit(X_train, y_train)"
   ]
  },
  {
   "cell_type": "code",
   "execution_count": 16,
   "metadata": {},
   "outputs": [
    {
     "output_type": "execute_result",
     "data": {
      "text/plain": [
       "                   date  ?�균기온  최�?기온  최고기온  ?�강?�량  ?�균?�슬?�온??최소?��??�도  \\\n",
       "0  2018-01-01T00:00:00Z   -1.3   -5.1   3.8     0.0                 -13.9   \n",
       "1  2018-01-02T00:00:00Z   -1.8   -4.3   1.8     0.0                 -14.1   \n",
       "2  2018-01-03T00:00:00Z   -4.7   -7.1  -0.4     0.0                 -15.8   \n",
       "3  2018-01-04T00:00:00Z   -4.7   -8.7  -0.7     0.0                 -15.6   \n",
       "4  2018-01-05T00:00:00Z   -3.0   -5.6   1.6     0.0                 -12.5   \n",
       "\n",
       "   ?�균?��??�도  ?�계?�조?�간  ?�계?�사???�균지면온???�계?�?�증발량  ?�계?�형증발??참외_메론_?�박  \\\n",
       "0          19       39.1                         8.3                 6.14   \n",
       "1          19       42.0                         7.9                 5.36   \n",
       "2          28       42.3                         8.6                 6.56   \n",
       "3          31       43.0                         6.2                 4.73   \n",
       "4          32       48.4                         8.2                 5.96   \n",
       "\n",
       "   Unnamed: 10  Unnamed: 11  Unnamed: 12  Unnamed: 13  \n",
       "0         -1.7          1.1          1.6    33.917269  \n",
       "1         -2.3          1.3          1.9    41.488425  \n",
       "2         -3.4          1.0          1.5    43.856918  \n",
       "3         -3.3          0.8          1.1    45.116034  \n",
       "4         -2.6          0.9          1.3    41.545074  "
      ],
      "text/html": "<div>\n<style scoped>\n    .dataframe tbody tr th:only-of-type {\n        vertical-align: middle;\n    }\n\n    .dataframe tbody tr th {\n        vertical-align: top;\n    }\n\n    .dataframe thead th {\n        text-align: right;\n    }\n</style>\n<table border=\"1\" class=\"dataframe\">\n  <thead>\n    <tr style=\"text-align: right;\">\n      <th></th>\n      <th>date</th>\n      <th>?�균기온</th>\n      <th>최�?기온</th>\n      <th>최고기온</th>\n      <th>?�강?�량</th>\n      <th>?�균?�슬?�온??최소?��??�도</th>\n      <th>?�균?��??�도</th>\n      <th>?�계?�조?�간</th>\n      <th>?�계?�사???�균지면온???�계?�?�증발량</th>\n      <th>?�계?�형증발??참외_메론_?�박</th>\n      <th>Unnamed: 10</th>\n      <th>Unnamed: 11</th>\n      <th>Unnamed: 12</th>\n      <th>Unnamed: 13</th>\n    </tr>\n  </thead>\n  <tbody>\n    <tr>\n      <th>0</th>\n      <td>2018-01-01T00:00:00Z</td>\n      <td>-1.3</td>\n      <td>-5.1</td>\n      <td>3.8</td>\n      <td>0.0</td>\n      <td>-13.9</td>\n      <td>19</td>\n      <td>39.1</td>\n      <td>8.3</td>\n      <td>6.14</td>\n      <td>-1.7</td>\n      <td>1.1</td>\n      <td>1.6</td>\n      <td>33.917269</td>\n    </tr>\n    <tr>\n      <th>1</th>\n      <td>2018-01-02T00:00:00Z</td>\n      <td>-1.8</td>\n      <td>-4.3</td>\n      <td>1.8</td>\n      <td>0.0</td>\n      <td>-14.1</td>\n      <td>19</td>\n      <td>42.0</td>\n      <td>7.9</td>\n      <td>5.36</td>\n      <td>-2.3</td>\n      <td>1.3</td>\n      <td>1.9</td>\n      <td>41.488425</td>\n    </tr>\n    <tr>\n      <th>2</th>\n      <td>2018-01-03T00:00:00Z</td>\n      <td>-4.7</td>\n      <td>-7.1</td>\n      <td>-0.4</td>\n      <td>0.0</td>\n      <td>-15.8</td>\n      <td>28</td>\n      <td>42.3</td>\n      <td>8.6</td>\n      <td>6.56</td>\n      <td>-3.4</td>\n      <td>1.0</td>\n      <td>1.5</td>\n      <td>43.856918</td>\n    </tr>\n    <tr>\n      <th>3</th>\n      <td>2018-01-04T00:00:00Z</td>\n      <td>-4.7</td>\n      <td>-8.7</td>\n      <td>-0.7</td>\n      <td>0.0</td>\n      <td>-15.6</td>\n      <td>31</td>\n      <td>43.0</td>\n      <td>6.2</td>\n      <td>4.73</td>\n      <td>-3.3</td>\n      <td>0.8</td>\n      <td>1.1</td>\n      <td>45.116034</td>\n    </tr>\n    <tr>\n      <th>4</th>\n      <td>2018-01-05T00:00:00Z</td>\n      <td>-3.0</td>\n      <td>-5.6</td>\n      <td>1.6</td>\n      <td>0.0</td>\n      <td>-12.5</td>\n      <td>32</td>\n      <td>48.4</td>\n      <td>8.2</td>\n      <td>5.96</td>\n      <td>-2.6</td>\n      <td>0.9</td>\n      <td>1.3</td>\n      <td>41.545074</td>\n    </tr>\n  </tbody>\n</table>\n</div>"
     },
     "metadata": {},
     "execution_count": 16
    }
   ],
   "source": [
    "df_참외_메론_수박_raw = pd.read_csv(\"C:/R_project/Team_complete/data/feature-target/참외_메론_수박.csv\")\n",
    "df_참외_메론_수박_raw.head()"
   ]
  },
  {
   "cell_type": "code",
   "execution_count": 21,
   "metadata": {},
   "outputs": [
    {
     "output_type": "execute_result",
     "data": {
      "text/plain": [
       "     ?�균기온  최�?기온  최고기온  ?�강?�량  ?�균?�슬?�온??최소?��??�도  ?�균?��??�도  ?�계?�조?�간  \\\n",
       "0     -1.3   -5.1   3.8     0.0                 -13.9          19       39.1   \n",
       "1     -1.8   -4.3   1.8     0.0                 -14.1          19       42.0   \n",
       "2     -4.7   -7.1  -0.4     0.0                 -15.8          28       42.3   \n",
       "3     -4.7   -8.7  -0.7     0.0                 -15.6          31       43.0   \n",
       "4     -3.0   -5.6   1.6     0.0                 -12.5          32       48.4   \n",
       "..     ...    ...   ...     ...                   ...         ...        ...   \n",
       "725   -1.7   -4.6   2.6     0.0                 -12.4          23       45.4   \n",
       "726    1.1   -3.6   6.1     0.0                  -9.0          34       47.6   \n",
       "727    3.8    1.1   6.2     1.4                  -5.4          37       52.5   \n",
       "728    2.7   -5.7   6.8     0.4                  -2.3          43       70.3   \n",
       "729   -7.9  -10.9  -4.5     0.0                 -19.5          26       39.3   \n",
       "\n",
       "     ?�계?�사???�균지면온???�계?�?�증발량  ?�계?�형증발??참외_메론_?�박  Unnamed: 10  \\\n",
       "0                           8.3                 6.14         -1.7   \n",
       "1                           7.9                 5.36         -2.3   \n",
       "2                           8.6                 6.56         -3.4   \n",
       "3                           6.2                 4.73         -3.3   \n",
       "4                           8.2                 5.96         -2.6   \n",
       "..                          ...                  ...          ...   \n",
       "725                         9.0                10.36         -0.9   \n",
       "726                         5.8                 8.09         -0.7   \n",
       "727                         0.0                 3.28          1.7   \n",
       "728                         0.0                 2.24          3.3   \n",
       "729                         9.1                11.11         -3.5   \n",
       "\n",
       "     Unnamed: 11  Unnamed: 12  Unnamed: 13  \n",
       "0            1.1          1.6    33.917269  \n",
       "1            1.3          1.9    41.488425  \n",
       "2            1.0          1.5    43.856918  \n",
       "3            0.8          1.1    45.116034  \n",
       "4            0.9          1.3    41.545074  \n",
       "..           ...          ...          ...  \n",
       "725          1.5          2.2    39.517816  \n",
       "726          1.4          2.0    37.854987  \n",
       "727          1.1          1.6    39.408469  \n",
       "728          0.9          1.3    42.521593  \n",
       "729          1.0          1.4    35.560997  \n",
       "\n",
       "[730 rows x 13 columns]"
      ],
      "text/html": "<div>\n<style scoped>\n    .dataframe tbody tr th:only-of-type {\n        vertical-align: middle;\n    }\n\n    .dataframe tbody tr th {\n        vertical-align: top;\n    }\n\n    .dataframe thead th {\n        text-align: right;\n    }\n</style>\n<table border=\"1\" class=\"dataframe\">\n  <thead>\n    <tr style=\"text-align: right;\">\n      <th></th>\n      <th>?�균기온</th>\n      <th>최�?기온</th>\n      <th>최고기온</th>\n      <th>?�강?�량</th>\n      <th>?�균?�슬?�온??최소?��??�도</th>\n      <th>?�균?��??�도</th>\n      <th>?�계?�조?�간</th>\n      <th>?�계?�사???�균지면온???�계?�?�증발량</th>\n      <th>?�계?�형증발??참외_메론_?�박</th>\n      <th>Unnamed: 10</th>\n      <th>Unnamed: 11</th>\n      <th>Unnamed: 12</th>\n      <th>Unnamed: 13</th>\n    </tr>\n  </thead>\n  <tbody>\n    <tr>\n      <th>0</th>\n      <td>-1.3</td>\n      <td>-5.1</td>\n      <td>3.8</td>\n      <td>0.0</td>\n      <td>-13.9</td>\n      <td>19</td>\n      <td>39.1</td>\n      <td>8.3</td>\n      <td>6.14</td>\n      <td>-1.7</td>\n      <td>1.1</td>\n      <td>1.6</td>\n      <td>33.917269</td>\n    </tr>\n    <tr>\n      <th>1</th>\n      <td>-1.8</td>\n      <td>-4.3</td>\n      <td>1.8</td>\n      <td>0.0</td>\n      <td>-14.1</td>\n      <td>19</td>\n      <td>42.0</td>\n      <td>7.9</td>\n      <td>5.36</td>\n      <td>-2.3</td>\n      <td>1.3</td>\n      <td>1.9</td>\n      <td>41.488425</td>\n    </tr>\n    <tr>\n      <th>2</th>\n      <td>-4.7</td>\n      <td>-7.1</td>\n      <td>-0.4</td>\n      <td>0.0</td>\n      <td>-15.8</td>\n      <td>28</td>\n      <td>42.3</td>\n      <td>8.6</td>\n      <td>6.56</td>\n      <td>-3.4</td>\n      <td>1.0</td>\n      <td>1.5</td>\n      <td>43.856918</td>\n    </tr>\n    <tr>\n      <th>3</th>\n      <td>-4.7</td>\n      <td>-8.7</td>\n      <td>-0.7</td>\n      <td>0.0</td>\n      <td>-15.6</td>\n      <td>31</td>\n      <td>43.0</td>\n      <td>6.2</td>\n      <td>4.73</td>\n      <td>-3.3</td>\n      <td>0.8</td>\n      <td>1.1</td>\n      <td>45.116034</td>\n    </tr>\n    <tr>\n      <th>4</th>\n      <td>-3.0</td>\n      <td>-5.6</td>\n      <td>1.6</td>\n      <td>0.0</td>\n      <td>-12.5</td>\n      <td>32</td>\n      <td>48.4</td>\n      <td>8.2</td>\n      <td>5.96</td>\n      <td>-2.6</td>\n      <td>0.9</td>\n      <td>1.3</td>\n      <td>41.545074</td>\n    </tr>\n    <tr>\n      <th>...</th>\n      <td>...</td>\n      <td>...</td>\n      <td>...</td>\n      <td>...</td>\n      <td>...</td>\n      <td>...</td>\n      <td>...</td>\n      <td>...</td>\n      <td>...</td>\n      <td>...</td>\n      <td>...</td>\n      <td>...</td>\n      <td>...</td>\n    </tr>\n    <tr>\n      <th>725</th>\n      <td>-1.7</td>\n      <td>-4.6</td>\n      <td>2.6</td>\n      <td>0.0</td>\n      <td>-12.4</td>\n      <td>23</td>\n      <td>45.4</td>\n      <td>9.0</td>\n      <td>10.36</td>\n      <td>-0.9</td>\n      <td>1.5</td>\n      <td>2.2</td>\n      <td>39.517816</td>\n    </tr>\n    <tr>\n      <th>726</th>\n      <td>1.1</td>\n      <td>-3.6</td>\n      <td>6.1</td>\n      <td>0.0</td>\n      <td>-9.0</td>\n      <td>34</td>\n      <td>47.6</td>\n      <td>5.8</td>\n      <td>8.09</td>\n      <td>-0.7</td>\n      <td>1.4</td>\n      <td>2.0</td>\n      <td>37.854987</td>\n    </tr>\n    <tr>\n      <th>727</th>\n      <td>3.8</td>\n      <td>1.1</td>\n      <td>6.2</td>\n      <td>1.4</td>\n      <td>-5.4</td>\n      <td>37</td>\n      <td>52.5</td>\n      <td>0.0</td>\n      <td>3.28</td>\n      <td>1.7</td>\n      <td>1.1</td>\n      <td>1.6</td>\n      <td>39.408469</td>\n    </tr>\n    <tr>\n      <th>728</th>\n      <td>2.7</td>\n      <td>-5.7</td>\n      <td>6.8</td>\n      <td>0.4</td>\n      <td>-2.3</td>\n      <td>43</td>\n      <td>70.3</td>\n      <td>0.0</td>\n      <td>2.24</td>\n      <td>3.3</td>\n      <td>0.9</td>\n      <td>1.3</td>\n      <td>42.521593</td>\n    </tr>\n    <tr>\n      <th>729</th>\n      <td>-7.9</td>\n      <td>-10.9</td>\n      <td>-4.5</td>\n      <td>0.0</td>\n      <td>-19.5</td>\n      <td>26</td>\n      <td>39.3</td>\n      <td>9.1</td>\n      <td>11.11</td>\n      <td>-3.5</td>\n      <td>1.0</td>\n      <td>1.4</td>\n      <td>35.560997</td>\n    </tr>\n  </tbody>\n</table>\n<p>730 rows × 13 columns</p>\n</div>"
     },
     "metadata": {},
     "execution_count": 21
    }
   ],
   "source": [
    "#02. 날자 제거하기. \n",
    "df_참외_메론_수박 = df_참외_메론_수박_raw\n",
    "del df_참외_메론_수박['date']\n",
    "df_참외_메론_수박"
   ]
  },
  {
   "cell_type": "code",
   "execution_count": 28,
   "metadata": {},
   "outputs": [
    {
     "output_type": "execute_result",
     "data": {
      "text/plain": [
       "         평균기온      최저기온      최고기온      일강수량   평균이슬점온도    최소상대습도    평균상대습도  \\\n",
       "0   -1.345873 -1.296793 -1.316587 -0.290113 -1.449840 -1.087268 -1.183451   \n",
       "1   -1.391963 -1.223715 -1.498441 -0.290113 -1.465927 -1.087268 -0.993211   \n",
       "2   -1.659281 -1.479489 -1.698481 -0.290113 -1.602662 -0.479323 -0.973531   \n",
       "3   -1.659281 -1.625646 -1.725759 -0.290113 -1.586575 -0.276675 -0.927611   \n",
       "4   -1.502577 -1.342467 -1.516626 -0.290113 -1.337235 -0.209125 -0.573371   \n",
       "..        ...       ...       ...       ...       ...       ...       ...   \n",
       "725 -1.382745 -1.251119 -1.425699 -0.290113 -1.329192 -0.817070 -0.770171   \n",
       "726 -1.124644 -1.159771 -1.107455 -0.290113 -1.055722 -0.074027 -0.625851   \n",
       "727 -0.875762 -0.730435 -1.098362 -0.153897 -0.766166  0.128621 -0.304411   \n",
       "728 -0.977158 -1.351602 -1.043806 -0.251194 -0.516827  0.533918  0.863269   \n",
       "729 -1.954253 -1.826612 -2.071282 -0.290113 -1.900261 -0.614422 -1.170331   \n",
       "\n",
       "       합계일조시간     합계일사량    평균지면온도   합계대형증발량   합계소형증발량  참외_메론_수박  \n",
       "0    0.322310 -1.072483 -1.405386 -1.062767 -1.052238        34  \n",
       "1    0.221771 -1.181541 -1.455957 -0.938556 -0.921795        41  \n",
       "2    0.397714 -1.013759 -1.548669 -1.124872 -1.095719        44  \n",
       "3   -0.205519 -1.269627 -1.540241 -1.249083 -1.269643        45  \n",
       "4    0.297175 -1.097650 -1.481242 -1.186977 -1.182681        42  \n",
       "..        ...       ...       ...       ...       ...       ...  \n",
       "725  0.498252 -0.482447 -1.337959 -0.814345 -0.791353        40  \n",
       "726 -0.306058 -0.799836 -1.321102 -0.876451 -0.878315        38  \n",
       "727 -1.763871 -1.472364 -1.118820 -1.062767 -1.052238        39  \n",
       "728 -1.763871 -1.617776 -0.983966 -1.186977 -1.182681        43  \n",
       "729  0.523387 -0.377583 -1.557098 -1.124872 -1.139200        36  \n",
       "\n",
       "[730 rows x 13 columns]"
      ],
      "text/html": "<div>\n<style scoped>\n    .dataframe tbody tr th:only-of-type {\n        vertical-align: middle;\n    }\n\n    .dataframe tbody tr th {\n        vertical-align: top;\n    }\n\n    .dataframe thead th {\n        text-align: right;\n    }\n</style>\n<table border=\"1\" class=\"dataframe\">\n  <thead>\n    <tr style=\"text-align: right;\">\n      <th></th>\n      <th>평균기온</th>\n      <th>최저기온</th>\n      <th>최고기온</th>\n      <th>일강수량</th>\n      <th>평균이슬점온도</th>\n      <th>최소상대습도</th>\n      <th>평균상대습도</th>\n      <th>합계일조시간</th>\n      <th>합계일사량</th>\n      <th>평균지면온도</th>\n      <th>합계대형증발량</th>\n      <th>합계소형증발량</th>\n      <th>참외_메론_수박</th>\n    </tr>\n  </thead>\n  <tbody>\n    <tr>\n      <th>0</th>\n      <td>-1.345873</td>\n      <td>-1.296793</td>\n      <td>-1.316587</td>\n      <td>-0.290113</td>\n      <td>-1.449840</td>\n      <td>-1.087268</td>\n      <td>-1.183451</td>\n      <td>0.322310</td>\n      <td>-1.072483</td>\n      <td>-1.405386</td>\n      <td>-1.062767</td>\n      <td>-1.052238</td>\n      <td>34</td>\n    </tr>\n    <tr>\n      <th>1</th>\n      <td>-1.391963</td>\n      <td>-1.223715</td>\n      <td>-1.498441</td>\n      <td>-0.290113</td>\n      <td>-1.465927</td>\n      <td>-1.087268</td>\n      <td>-0.993211</td>\n      <td>0.221771</td>\n      <td>-1.181541</td>\n      <td>-1.455957</td>\n      <td>-0.938556</td>\n      <td>-0.921795</td>\n      <td>41</td>\n    </tr>\n    <tr>\n      <th>2</th>\n      <td>-1.659281</td>\n      <td>-1.479489</td>\n      <td>-1.698481</td>\n      <td>-0.290113</td>\n      <td>-1.602662</td>\n      <td>-0.479323</td>\n      <td>-0.973531</td>\n      <td>0.397714</td>\n      <td>-1.013759</td>\n      <td>-1.548669</td>\n      <td>-1.124872</td>\n      <td>-1.095719</td>\n      <td>44</td>\n    </tr>\n    <tr>\n      <th>3</th>\n      <td>-1.659281</td>\n      <td>-1.625646</td>\n      <td>-1.725759</td>\n      <td>-0.290113</td>\n      <td>-1.586575</td>\n      <td>-0.276675</td>\n      <td>-0.927611</td>\n      <td>-0.205519</td>\n      <td>-1.269627</td>\n      <td>-1.540241</td>\n      <td>-1.249083</td>\n      <td>-1.269643</td>\n      <td>45</td>\n    </tr>\n    <tr>\n      <th>4</th>\n      <td>-1.502577</td>\n      <td>-1.342467</td>\n      <td>-1.516626</td>\n      <td>-0.290113</td>\n      <td>-1.337235</td>\n      <td>-0.209125</td>\n      <td>-0.573371</td>\n      <td>0.297175</td>\n      <td>-1.097650</td>\n      <td>-1.481242</td>\n      <td>-1.186977</td>\n      <td>-1.182681</td>\n      <td>42</td>\n    </tr>\n    <tr>\n      <th>...</th>\n      <td>...</td>\n      <td>...</td>\n      <td>...</td>\n      <td>...</td>\n      <td>...</td>\n      <td>...</td>\n      <td>...</td>\n      <td>...</td>\n      <td>...</td>\n      <td>...</td>\n      <td>...</td>\n      <td>...</td>\n      <td>...</td>\n    </tr>\n    <tr>\n      <th>725</th>\n      <td>-1.382745</td>\n      <td>-1.251119</td>\n      <td>-1.425699</td>\n      <td>-0.290113</td>\n      <td>-1.329192</td>\n      <td>-0.817070</td>\n      <td>-0.770171</td>\n      <td>0.498252</td>\n      <td>-0.482447</td>\n      <td>-1.337959</td>\n      <td>-0.814345</td>\n      <td>-0.791353</td>\n      <td>40</td>\n    </tr>\n    <tr>\n      <th>726</th>\n      <td>-1.124644</td>\n      <td>-1.159771</td>\n      <td>-1.107455</td>\n      <td>-0.290113</td>\n      <td>-1.055722</td>\n      <td>-0.074027</td>\n      <td>-0.625851</td>\n      <td>-0.306058</td>\n      <td>-0.799836</td>\n      <td>-1.321102</td>\n      <td>-0.876451</td>\n      <td>-0.878315</td>\n      <td>38</td>\n    </tr>\n    <tr>\n      <th>727</th>\n      <td>-0.875762</td>\n      <td>-0.730435</td>\n      <td>-1.098362</td>\n      <td>-0.153897</td>\n      <td>-0.766166</td>\n      <td>0.128621</td>\n      <td>-0.304411</td>\n      <td>-1.763871</td>\n      <td>-1.472364</td>\n      <td>-1.118820</td>\n      <td>-1.062767</td>\n      <td>-1.052238</td>\n      <td>39</td>\n    </tr>\n    <tr>\n      <th>728</th>\n      <td>-0.977158</td>\n      <td>-1.351602</td>\n      <td>-1.043806</td>\n      <td>-0.251194</td>\n      <td>-0.516827</td>\n      <td>0.533918</td>\n      <td>0.863269</td>\n      <td>-1.763871</td>\n      <td>-1.617776</td>\n      <td>-0.983966</td>\n      <td>-1.186977</td>\n      <td>-1.182681</td>\n      <td>43</td>\n    </tr>\n    <tr>\n      <th>729</th>\n      <td>-1.954253</td>\n      <td>-1.826612</td>\n      <td>-2.071282</td>\n      <td>-0.290113</td>\n      <td>-1.900261</td>\n      <td>-0.614422</td>\n      <td>-1.170331</td>\n      <td>0.523387</td>\n      <td>-0.377583</td>\n      <td>-1.557098</td>\n      <td>-1.124872</td>\n      <td>-1.139200</td>\n      <td>36</td>\n    </tr>\n  </tbody>\n</table>\n<p>730 rows × 13 columns</p>\n</div>"
     },
     "metadata": {},
     "execution_count": 28
    }
   ],
   "source": [
    "#03. 데이터셋 스케일링하기. \n",
    "scaler = StandardScaler()\n",
    "df_참외_메론_수박_scaling = scaler.fit_transform(df_참외_메론_수박.iloc[:,:-1])\n",
    "df_참외_메론_수박_scaling = pd.DataFrame(df_참외_메론_수박_scaling, columns=['평균기온','최저기온','최고기온','일강수량','평균이슬점온도','최소상대습도','평균상대습도','합계일조시간','합계일사량','평균지면온도','합계대형증발량','합계소형증발량'])\n",
    "\n",
    "df_참외_메론_수박_scaling['참외_메론_수박'] = df_참외_메론_수박.iloc[:,-1].round().astype('int')\n",
    "df_참외_메론_수박_scaling"
   ]
  },
  {
   "cell_type": "code",
   "execution_count": 90,
   "metadata": {},
   "outputs": [
    {
     "output_type": "execute_result",
     "data": {
      "text/plain": [
       "0      34\n",
       "1      41\n",
       "2      44\n",
       "3      45\n",
       "4      42\n",
       "       ..\n",
       "725    40\n",
       "726    38\n",
       "727    39\n",
       "728    43\n",
       "729    36\n",
       "Name: 참외_메론_수박, Length: 730, dtype: int32"
      ]
     },
     "metadata": {},
     "execution_count": 90
    }
   ],
   "source": [
    "df_참외_메론_수박_scaling.iloc[:,-1]"
   ]
  },
  {
   "cell_type": "code",
   "execution_count": 141,
   "metadata": {},
   "outputs": [
    {
     "output_type": "execute_result",
     "data": {
      "text/plain": [
       "((365, 12), (365, 12), (365,), (365,))"
      ]
     },
     "metadata": {},
     "execution_count": 141
    }
   ],
   "source": [
    "#05. train, test 데이터셋으로 분할하기. \n",
    "X_train, X_test, y_train, y_test = train_test_split(\n",
    "    df_참외_메론_수박_scaling.iloc[:,:-1], df_참외_메론_수박_scaling.iloc[:,-1], test_size=0.5 \n",
    ")\n",
    "X_train.shape, X_test.shape, y_train.shape, y_test.shape"
   ]
  },
  {
   "cell_type": "code",
   "execution_count": 84,
   "metadata": {},
   "outputs": [
    {
     "output_type": "execute_result",
     "data": {
      "text/plain": [
       "{'boosting_type': 'gbdt',\n",
       " 'class_weight': None,\n",
       " 'colsample_bytree': 1.0,\n",
       " 'importance_type': 'split',\n",
       " 'learning_rate': 0.1,\n",
       " 'max_depth': -1,\n",
       " 'min_child_samples': 20,\n",
       " 'min_child_weight': 0.001,\n",
       " 'min_split_gain': 0.0,\n",
       " 'n_estimators': 100,\n",
       " 'n_jobs': -1,\n",
       " 'num_leaves': 31,\n",
       " 'objective': None,\n",
       " 'random_state': None,\n",
       " 'reg_alpha': 0.0,\n",
       " 'reg_lambda': 0.0,\n",
       " 'silent': True,\n",
       " 'subsample': 1.0,\n",
       " 'subsample_for_bin': 200000,\n",
       " 'subsample_freq': 0}"
      ]
     },
     "metadata": {},
     "execution_count": 84
    }
   ],
   "source": [
    "#(1) 모형 생성하기. \n",
    "lgb_clf = LGBMClassifier()\n",
    "\n",
    "#(2) 하이퍼 파라미터 확인하기. \n",
    "lgb_rg.get_params()"
   ]
  },
  {
   "cell_type": "markdown",
   "metadata": {},
   "source": [
    "## 모델 시각화"
   ]
  },
  {
   "cell_type": "code",
   "execution_count": 43,
   "metadata": {},
   "outputs": [
    {
     "output_type": "execute_result",
     "data": {
      "text/plain": [
       "Index(['평균기온', '최저기온', '최고기온', '일강수량', '평균이슬점온도', '최소상대습도', '평균상대습도', '합계일조시간',\n",
       "       '합계일사량', '평균지면온도', '합계대형증발량', '합계소형증발량', '참외_메론_수박'],\n",
       "      dtype='object')"
      ]
     },
     "metadata": {},
     "execution_count": 43
    }
   ],
   "source": [
    "df_참외_메론_수박_scaling.columns"
   ]
  },
  {
   "cell_type": "code",
   "execution_count": 138,
   "metadata": {},
   "outputs": [
    {
     "output_type": "execute_result",
     "data": {
      "text/plain": [
       "array([ 34,  41,  44,  45,  42,  47,  46,  49,  45,  46,  47,  50,  47,\n",
       "        45,  39,  55,  47,  44,  47,  51,  48,  49,  51,  46,  46,  55,\n",
       "        41,  44,  45,  47,  43,  46,  44,  48,  41,  44,  59,  48,  46,\n",
       "        41,  43,  41,  44,  46,  41,  41,  45,  42,  42,  45,  46,  46,\n",
       "        51,  51,  47,  46,  45,  54,  48,  47,  47,  46,  45,  51,  52,\n",
       "        56,  56,  55,  53,  57,  55,  56,  56,  58,  59,  57,  52,  58,\n",
       "        57,  59,  55,  57,  56,  55,  54,  55,  58,  55,  57,  54,  60,\n",
       "        59,  64,  57,  60,  59,  58,  60,  67,  67,  74,  72,  72,  67,\n",
       "        70,  73,  78,  75,  82,  88,  94, 103,  91,  91, 101,  99,  95,\n",
       "       102, 103, 118, 106, 116, 119, 126, 106, 110, 133, 125, 136, 138,\n",
       "       158, 142, 150, 148, 178, 171, 175, 169, 160, 169, 165, 175, 187,\n",
       "       199, 206, 198, 200, 212, 232, 214, 219, 237, 253, 253, 264, 249,\n",
       "       252, 246, 251, 237, 230, 231, 248, 236, 242, 246, 250, 269, 276,\n",
       "       263, 269, 302, 292, 316, 325, 342, 305, 283, 258, 287, 296, 297,\n",
       "       276, 286, 316, 291, 294, 296, 319, 291, 303, 322, 332, 346, 370,\n",
       "       411, 407, 467, 385, 397, 406, 427, 445, 415, 446, 425, 426, 440,\n",
       "       380, 377, 346, 307, 315, 316, 324, 320, 328, 303, 287, 281, 266,\n",
       "       254, 241, 291, 257, 242, 249, 243, 209, 207, 227, 211, 196, 181,\n",
       "       173, 159, 158, 162, 143, 132, 133, 135, 128, 118, 133, 127, 118,\n",
       "       116, 110, 103, 105, 115, 105, 101,  99, 101,  98, 103, 106, 104,\n",
       "       110,  96,  98,  90, 100,  99,  91,  96,  99,  90,  86,  92,  87,\n",
       "        83,  84,  80,  74,  70,  77,  71,  70,  73,  75,  71,  62,  65,\n",
       "        63,  63,  68,  66,  54,  58,  60,  65,  62,  63,  55,  61,  55,\n",
       "        58,  54,  55,  55,  53,  54,  55,  50,  59,  51,  54,  59,  56,\n",
       "        56,  52,  52,  58,  56,  60,  56,  54,  58,  60,  59,  59,  51,\n",
       "        53,  49,  46,  55,  52,  52,  50,  53,  52,  48,  49,  47,  54,\n",
       "        53,  45,  49,  45,  44,  50,  48,  50,  46,  45,  41,  48,  46,\n",
       "        41,  41,  43,  50,  42,  38,  40,  36,  41,  47,  44,  53,  62,\n",
       "        47,  55,  54,  57,  54,  60,  55,  59,  57,  61,  56,  59,  60,\n",
       "        59,  55,  61,  61,  63,  56,  53,  55,  52,  54,  56,  60,  62,\n",
       "        60,  61,  50,  64,  59,  59,  62,  68,  76,  66,  58,  57,  54,\n",
       "        67,  65,  65,  59,  62,  60,  62,  62,  61,  65,  58,  64,  62,\n",
       "        67,  58,  67,  69,  64,  65,  68,  62,  59,  65,  68,  65,  64,\n",
       "        73,  63,  67,  63,  64,  66,  70,  69,  72,  78,  73,  83,  79,\n",
       "        83,  82,  82,  81,  84,  82,  92,  87,  88,  88,  90,  93,  81,\n",
       "        89,  79,  86,  86,  86,  94,  89,  87, 104,  95,  95, 101,  95,\n",
       "        93, 100, 112, 103, 104, 103, 118, 123, 121, 124, 133, 127, 119,\n",
       "       137, 143, 137, 125, 129, 143, 145, 150, 152, 157, 158, 153, 175,\n",
       "       179, 199, 213, 192, 201, 197, 215, 222, 212, 232, 199, 202, 219,\n",
       "       232, 231, 231, 249, 221, 229, 241, 248, 238, 237, 272, 274, 276,\n",
       "       275, 283, 235, 253, 254, 253, 274, 262, 290, 256, 266, 280, 275,\n",
       "       251, 269, 280, 268, 279, 318, 293, 289, 278, 275, 262, 274, 297,\n",
       "       287, 292, 286, 296, 300, 299, 317, 291, 297, 281, 269, 343, 306,\n",
       "       316, 301, 295, 299, 331, 273, 277, 285, 320, 317, 289, 281, 265,\n",
       "       258, 273, 278, 268, 259, 254, 262, 266, 289, 285, 260, 264, 248,\n",
       "       240, 250, 277, 255, 228, 223, 206, 193, 204, 211, 202, 184, 177,\n",
       "       167, 170, 150, 164, 157, 144, 137, 133, 125, 134, 133, 121, 134,\n",
       "       122, 110, 106, 121, 106, 108, 104,  95,  92,  97, 101, 107,  92,\n",
       "        94,  88,  86,  83,  87,  81,  80,  75,  81,  79,  77,  69,  72,\n",
       "        72,  76,  68,  72,  64,  63,  64,  66,  68,  57,  60,  62,  61,\n",
       "        61,  56,  58,  60,  61,  53,  52,  55,  52,  56,  48,  58,  54,\n",
       "        46,  51,  52,  52,  51,  50,  47,  50,  50,  50,  51,  53,  51,\n",
       "        49,  48,  48,  46,  47,  49,  44,  46,  43,  49,  45,  49,  43,\n",
       "        48,  43,  39,  42,  46,  43,  45,  43,  44,  39,  40,  48,  47,\n",
       "        48,  44,  50,  39,  44,  42,  42,  44,  44,  40,  43,  42,  43,\n",
       "        42,  43,  45,  39,  42,  38,  39,  40,  38,  39,  40,  38,  39,\n",
       "        43,  36])"
      ]
     },
     "metadata": {},
     "execution_count": 138
    }
   ],
   "source": [
    "df_참외_메론_수박_scaling['참외_메론_수박'].values"
   ]
  },
  {
   "source": [
    "### 5개로 나누기\n",
    "for i in range(len(df_참외_메론_수박_scaling['참외_메론_수박'].values)):\n",
    "    if df_참외_메론_수박_scaling['참외_메론_수박'].values[i] < "
   ],
   "cell_type": "markdown",
   "metadata": {}
  },
  {
   "cell_type": "code",
   "execution_count": 134,
   "metadata": {},
   "outputs": [
    {
     "output_type": "execute_result",
     "data": {
      "text/plain": [
       "<graphviz.files.Source at 0x17112c90dc0>"
      ],
      "image/svg+xml": "<?xml version=\"1.0\" encoding=\"UTF-8\" standalone=\"no\"?>\r\n<!DOCTYPE svg PUBLIC \"-//W3C//DTD SVG 1.1//EN\"\r\n \"http://www.w3.org/Graphics/SVG/1.1/DTD/svg11.dtd\">\r\n<!-- Generated by graphviz version 2.47.3 (20210619.1520)\r\n -->\r\n<!-- Title: Tree Pages: 1 -->\r\n<svg width=\"746pt\" height=\"671pt\"\r\n viewBox=\"0.00 0.00 746.00 671.00\" xmlns=\"http://www.w3.org/2000/svg\" xmlns:xlink=\"http://www.w3.org/1999/xlink\">\r\n<g id=\"graph0\" class=\"graph\" transform=\"scale(1 1) rotate(0) translate(4 667)\">\r\n<title>Tree</title>\r\n<polygon fill=\"white\" stroke=\"transparent\" points=\"-4,4 -4,-667 742,-667 742,4 -4,4\"/>\r\n<!-- 0 -->\r\n<g id=\"node1\" class=\"node\">\r\n<title>0</title>\r\n<polygon fill=\"#fffdfd\" stroke=\"black\" points=\"272,-663 114,-663 114,-580 272,-580 272,-663\"/>\r\n<text text-anchor=\"middle\" x=\"193\" y=\"-647.8\" font-family=\"Times New Roman,serif\" font-size=\"14.00\">petal length (cm) &lt;= 2.45</text>\r\n<text text-anchor=\"middle\" x=\"193\" y=\"-632.8\" font-family=\"Times New Roman,serif\" font-size=\"14.00\">gini = 0.667</text>\r\n<text text-anchor=\"middle\" x=\"193\" y=\"-617.8\" font-family=\"Times New Roman,serif\" font-size=\"14.00\">samples = 120</text>\r\n<text text-anchor=\"middle\" x=\"193\" y=\"-602.8\" font-family=\"Times New Roman,serif\" font-size=\"14.00\">value = [41, 40, 39]</text>\r\n<text text-anchor=\"middle\" x=\"193\" y=\"-587.8\" font-family=\"Times New Roman,serif\" font-size=\"14.00\">class = setosa</text>\r\n</g>\r\n<!-- 1 -->\r\n<g id=\"node2\" class=\"node\">\r\n<title>1</title>\r\n<polygon fill=\"#e58139\" stroke=\"black\" points=\"173,-536.5 61,-536.5 61,-468.5 173,-468.5 173,-536.5\"/>\r\n<text text-anchor=\"middle\" x=\"117\" y=\"-521.3\" font-family=\"Times New Roman,serif\" font-size=\"14.00\">gini = 0.0</text>\r\n<text text-anchor=\"middle\" x=\"117\" y=\"-506.3\" font-family=\"Times New Roman,serif\" font-size=\"14.00\">samples = 41</text>\r\n<text text-anchor=\"middle\" x=\"117\" y=\"-491.3\" font-family=\"Times New Roman,serif\" font-size=\"14.00\">value = [41, 0, 0]</text>\r\n<text text-anchor=\"middle\" x=\"117\" y=\"-476.3\" font-family=\"Times New Roman,serif\" font-size=\"14.00\">class = setosa</text>\r\n</g>\r\n<!-- 0&#45;&gt;1 -->\r\n<g id=\"edge1\" class=\"edge\">\r\n<title>0&#45;&gt;1</title>\r\n<path fill=\"none\" stroke=\"black\" d=\"M166.63,-579.91C159.32,-568.65 151.37,-556.42 144.03,-545.11\"/>\r\n<polygon fill=\"black\" stroke=\"black\" points=\"146.93,-543.15 138.54,-536.67 141.06,-546.96 146.93,-543.15\"/>\r\n<text text-anchor=\"middle\" x=\"133.35\" y=\"-557.42\" font-family=\"Times New Roman,serif\" font-size=\"14.00\">True</text>\r\n</g>\r\n<!-- 2 -->\r\n<g id=\"node3\" class=\"node\">\r\n<title>2</title>\r\n<polygon fill=\"#fafefc\" stroke=\"black\" points=\"346.5,-544 191.5,-544 191.5,-461 346.5,-461 346.5,-544\"/>\r\n<text text-anchor=\"middle\" x=\"269\" y=\"-528.8\" font-family=\"Times New Roman,serif\" font-size=\"14.00\">petal width (cm) &lt;= 1.55</text>\r\n<text text-anchor=\"middle\" x=\"269\" y=\"-513.8\" font-family=\"Times New Roman,serif\" font-size=\"14.00\">gini = 0.5</text>\r\n<text text-anchor=\"middle\" x=\"269\" y=\"-498.8\" font-family=\"Times New Roman,serif\" font-size=\"14.00\">samples = 79</text>\r\n<text text-anchor=\"middle\" x=\"269\" y=\"-483.8\" font-family=\"Times New Roman,serif\" font-size=\"14.00\">value = [0, 40, 39]</text>\r\n<text text-anchor=\"middle\" x=\"269\" y=\"-468.8\" font-family=\"Times New Roman,serif\" font-size=\"14.00\">class = versicolor</text>\r\n</g>\r\n<!-- 0&#45;&gt;2 -->\r\n<g id=\"edge2\" class=\"edge\">\r\n<title>0&#45;&gt;2</title>\r\n<path fill=\"none\" stroke=\"black\" d=\"M219.37,-579.91C225.09,-571.1 231.19,-561.7 237.1,-552.61\"/>\r\n<polygon fill=\"black\" stroke=\"black\" points=\"240.17,-554.31 242.68,-544.02 234.3,-550.5 240.17,-554.31\"/>\r\n<text text-anchor=\"middle\" x=\"247.87\" y=\"-564.78\" font-family=\"Times New Roman,serif\" font-size=\"14.00\">False</text>\r\n</g>\r\n<!-- 3 -->\r\n<g id=\"node4\" class=\"node\">\r\n<title>3</title>\r\n<polygon fill=\"#3ee684\" stroke=\"black\" points=\"261,-425 103,-425 103,-342 261,-342 261,-425\"/>\r\n<text text-anchor=\"middle\" x=\"182\" y=\"-409.8\" font-family=\"Times New Roman,serif\" font-size=\"14.00\">petal length (cm) &lt;= 5.25</text>\r\n<text text-anchor=\"middle\" x=\"182\" y=\"-394.8\" font-family=\"Times New Roman,serif\" font-size=\"14.00\">gini = 0.051</text>\r\n<text text-anchor=\"middle\" x=\"182\" y=\"-379.8\" font-family=\"Times New Roman,serif\" font-size=\"14.00\">samples = 38</text>\r\n<text text-anchor=\"middle\" x=\"182\" y=\"-364.8\" font-family=\"Times New Roman,serif\" font-size=\"14.00\">value = [0, 37, 1]</text>\r\n<text text-anchor=\"middle\" x=\"182\" y=\"-349.8\" font-family=\"Times New Roman,serif\" font-size=\"14.00\">class = versicolor</text>\r\n</g>\r\n<!-- 2&#45;&gt;3 -->\r\n<g id=\"edge3\" class=\"edge\">\r\n<title>2&#45;&gt;3</title>\r\n<path fill=\"none\" stroke=\"black\" d=\"M238.82,-460.91C232.14,-451.92 224.99,-442.32 218.1,-433.05\"/>\r\n<polygon fill=\"black\" stroke=\"black\" points=\"220.91,-430.96 212.13,-425.02 215.29,-435.13 220.91,-430.96\"/>\r\n</g>\r\n<!-- 6 -->\r\n<g id=\"node7\" class=\"node\">\r\n<title>6</title>\r\n<polygon fill=\"#8b49e7\" stroke=\"black\" points=\"434.5,-425 279.5,-425 279.5,-342 434.5,-342 434.5,-425\"/>\r\n<text text-anchor=\"middle\" x=\"357\" y=\"-409.8\" font-family=\"Times New Roman,serif\" font-size=\"14.00\">petal width (cm) &lt;= 1.75</text>\r\n<text text-anchor=\"middle\" x=\"357\" y=\"-394.8\" font-family=\"Times New Roman,serif\" font-size=\"14.00\">gini = 0.136</text>\r\n<text text-anchor=\"middle\" x=\"357\" y=\"-379.8\" font-family=\"Times New Roman,serif\" font-size=\"14.00\">samples = 41</text>\r\n<text text-anchor=\"middle\" x=\"357\" y=\"-364.8\" font-family=\"Times New Roman,serif\" font-size=\"14.00\">value = [0, 3, 38]</text>\r\n<text text-anchor=\"middle\" x=\"357\" y=\"-349.8\" font-family=\"Times New Roman,serif\" font-size=\"14.00\">class = virginica</text>\r\n</g>\r\n<!-- 2&#45;&gt;6 -->\r\n<g id=\"edge6\" class=\"edge\">\r\n<title>2&#45;&gt;6</title>\r\n<path fill=\"none\" stroke=\"black\" d=\"M299.53,-460.91C306.29,-451.92 313.52,-442.32 320.48,-433.05\"/>\r\n<polygon fill=\"black\" stroke=\"black\" points=\"323.31,-435.12 326.52,-425.02 317.71,-430.91 323.31,-435.12\"/>\r\n</g>\r\n<!-- 4 -->\r\n<g id=\"node5\" class=\"node\">\r\n<title>4</title>\r\n<polygon fill=\"#39e581\" stroke=\"black\" points=\"116,-298.5 0,-298.5 0,-230.5 116,-230.5 116,-298.5\"/>\r\n<text text-anchor=\"middle\" x=\"58\" y=\"-283.3\" font-family=\"Times New Roman,serif\" font-size=\"14.00\">gini = 0.0</text>\r\n<text text-anchor=\"middle\" x=\"58\" y=\"-268.3\" font-family=\"Times New Roman,serif\" font-size=\"14.00\">samples = 37</text>\r\n<text text-anchor=\"middle\" x=\"58\" y=\"-253.3\" font-family=\"Times New Roman,serif\" font-size=\"14.00\">value = [0, 37, 0]</text>\r\n<text text-anchor=\"middle\" x=\"58\" y=\"-238.3\" font-family=\"Times New Roman,serif\" font-size=\"14.00\">class = versicolor</text>\r\n</g>\r\n<!-- 3&#45;&gt;4 -->\r\n<g id=\"edge4\" class=\"edge\">\r\n<title>3&#45;&gt;4</title>\r\n<path fill=\"none\" stroke=\"black\" d=\"M138.98,-341.91C126.58,-330.21 113.07,-317.46 100.69,-305.78\"/>\r\n<polygon fill=\"black\" stroke=\"black\" points=\"102.83,-302.98 93.15,-298.67 98.02,-308.08 102.83,-302.98\"/>\r\n</g>\r\n<!-- 5 -->\r\n<g id=\"node6\" class=\"node\">\r\n<title>5</title>\r\n<polygon fill=\"#8139e5\" stroke=\"black\" points=\"241.5,-298.5 134.5,-298.5 134.5,-230.5 241.5,-230.5 241.5,-298.5\"/>\r\n<text text-anchor=\"middle\" x=\"188\" y=\"-283.3\" font-family=\"Times New Roman,serif\" font-size=\"14.00\">gini = 0.0</text>\r\n<text text-anchor=\"middle\" x=\"188\" y=\"-268.3\" font-family=\"Times New Roman,serif\" font-size=\"14.00\">samples = 1</text>\r\n<text text-anchor=\"middle\" x=\"188\" y=\"-253.3\" font-family=\"Times New Roman,serif\" font-size=\"14.00\">value = [0, 0, 1]</text>\r\n<text text-anchor=\"middle\" x=\"188\" y=\"-238.3\" font-family=\"Times New Roman,serif\" font-size=\"14.00\">class = virginica</text>\r\n</g>\r\n<!-- 3&#45;&gt;5 -->\r\n<g id=\"edge5\" class=\"edge\">\r\n<title>3&#45;&gt;5</title>\r\n<path fill=\"none\" stroke=\"black\" d=\"M184.08,-341.91C184.63,-331.2 185.22,-319.62 185.78,-308.78\"/>\r\n<polygon fill=\"black\" stroke=\"black\" points=\"189.28,-308.83 186.3,-298.67 182.29,-308.47 189.28,-308.83\"/>\r\n</g>\r\n<!-- 7 -->\r\n<g id=\"node8\" class=\"node\">\r\n<title>7</title>\r\n<polygon fill=\"#ffffff\" stroke=\"black\" points=\"431,-306 271,-306 271,-223 431,-223 431,-306\"/>\r\n<text text-anchor=\"middle\" x=\"351\" y=\"-290.8\" font-family=\"Times New Roman,serif\" font-size=\"14.00\">sepal length (cm) &lt;= 5.45</text>\r\n<text text-anchor=\"middle\" x=\"351\" y=\"-275.8\" font-family=\"Times New Roman,serif\" font-size=\"14.00\">gini = 0.5</text>\r\n<text text-anchor=\"middle\" x=\"351\" y=\"-260.8\" font-family=\"Times New Roman,serif\" font-size=\"14.00\">samples = 4</text>\r\n<text text-anchor=\"middle\" x=\"351\" y=\"-245.8\" font-family=\"Times New Roman,serif\" font-size=\"14.00\">value = [0, 2, 2]</text>\r\n<text text-anchor=\"middle\" x=\"351\" y=\"-230.8\" font-family=\"Times New Roman,serif\" font-size=\"14.00\">class = versicolor</text>\r\n</g>\r\n<!-- 6&#45;&gt;7 -->\r\n<g id=\"edge7\" class=\"edge\">\r\n<title>6&#45;&gt;7</title>\r\n<path fill=\"none\" stroke=\"black\" d=\"M354.92,-341.91C354.49,-333.56 354.03,-324.67 353.59,-316.02\"/>\r\n<polygon fill=\"black\" stroke=\"black\" points=\"357.09,-315.83 353.08,-306.02 350.09,-316.19 357.09,-315.83\"/>\r\n</g>\r\n<!-- 12 -->\r\n<g id=\"node13\" class=\"node\">\r\n<title>12</title>\r\n<polygon fill=\"#843ee6\" stroke=\"black\" points=\"607,-306 449,-306 449,-223 607,-223 607,-306\"/>\r\n<text text-anchor=\"middle\" x=\"528\" y=\"-290.8\" font-family=\"Times New Roman,serif\" font-size=\"14.00\">petal length (cm) &lt;= 4.85</text>\r\n<text text-anchor=\"middle\" x=\"528\" y=\"-275.8\" font-family=\"Times New Roman,serif\" font-size=\"14.00\">gini = 0.053</text>\r\n<text text-anchor=\"middle\" x=\"528\" y=\"-260.8\" font-family=\"Times New Roman,serif\" font-size=\"14.00\">samples = 37</text>\r\n<text text-anchor=\"middle\" x=\"528\" y=\"-245.8\" font-family=\"Times New Roman,serif\" font-size=\"14.00\">value = [0, 1, 36]</text>\r\n<text text-anchor=\"middle\" x=\"528\" y=\"-230.8\" font-family=\"Times New Roman,serif\" font-size=\"14.00\">class = virginica</text>\r\n</g>\r\n<!-- 6&#45;&gt;12 -->\r\n<g id=\"edge12\" class=\"edge\">\r\n<title>6&#45;&gt;12</title>\r\n<path fill=\"none\" stroke=\"black\" d=\"M416.33,-341.91C430.52,-332.2 445.78,-321.76 460.31,-311.81\"/>\r\n<polygon fill=\"black\" stroke=\"black\" points=\"462.5,-314.56 468.78,-306.02 458.55,-308.78 462.5,-314.56\"/>\r\n</g>\r\n<!-- 8 -->\r\n<g id=\"node9\" class=\"node\">\r\n<title>8</title>\r\n<polygon fill=\"#8139e5\" stroke=\"black\" points=\"253.5,-179.5 146.5,-179.5 146.5,-111.5 253.5,-111.5 253.5,-179.5\"/>\r\n<text text-anchor=\"middle\" x=\"200\" y=\"-164.3\" font-family=\"Times New Roman,serif\" font-size=\"14.00\">gini = 0.0</text>\r\n<text text-anchor=\"middle\" x=\"200\" y=\"-149.3\" font-family=\"Times New Roman,serif\" font-size=\"14.00\">samples = 1</text>\r\n<text text-anchor=\"middle\" x=\"200\" y=\"-134.3\" font-family=\"Times New Roman,serif\" font-size=\"14.00\">value = [0, 0, 1]</text>\r\n<text text-anchor=\"middle\" x=\"200\" y=\"-119.3\" font-family=\"Times New Roman,serif\" font-size=\"14.00\">class = virginica</text>\r\n</g>\r\n<!-- 7&#45;&gt;8 -->\r\n<g id=\"edge8\" class=\"edge\">\r\n<title>7&#45;&gt;8</title>\r\n<path fill=\"none\" stroke=\"black\" d=\"M298.61,-222.91C283.23,-210.99 266.43,-197.98 251.13,-186.12\"/>\r\n<polygon fill=\"black\" stroke=\"black\" points=\"252.85,-183.03 242.81,-179.67 248.57,-188.56 252.85,-183.03\"/>\r\n</g>\r\n<!-- 9 -->\r\n<g id=\"node10\" class=\"node\">\r\n<title>9</title>\r\n<polygon fill=\"#9cf2c0\" stroke=\"black\" points=\"430,-187 272,-187 272,-104 430,-104 430,-187\"/>\r\n<text text-anchor=\"middle\" x=\"351\" y=\"-171.8\" font-family=\"Times New Roman,serif\" font-size=\"14.00\">petal length (cm) &lt;= 5.45</text>\r\n<text text-anchor=\"middle\" x=\"351\" y=\"-156.8\" font-family=\"Times New Roman,serif\" font-size=\"14.00\">gini = 0.444</text>\r\n<text text-anchor=\"middle\" x=\"351\" y=\"-141.8\" font-family=\"Times New Roman,serif\" font-size=\"14.00\">samples = 3</text>\r\n<text text-anchor=\"middle\" x=\"351\" y=\"-126.8\" font-family=\"Times New Roman,serif\" font-size=\"14.00\">value = [0, 2, 1]</text>\r\n<text text-anchor=\"middle\" x=\"351\" y=\"-111.8\" font-family=\"Times New Roman,serif\" font-size=\"14.00\">class = versicolor</text>\r\n</g>\r\n<!-- 7&#45;&gt;9 -->\r\n<g id=\"edge9\" class=\"edge\">\r\n<title>7&#45;&gt;9</title>\r\n<path fill=\"none\" stroke=\"black\" d=\"M351,-222.91C351,-214.65 351,-205.86 351,-197.3\"/>\r\n<polygon fill=\"black\" stroke=\"black\" points=\"354.5,-197.02 351,-187.02 347.5,-197.02 354.5,-197.02\"/>\r\n</g>\r\n<!-- 10 -->\r\n<g id=\"node11\" class=\"node\">\r\n<title>10</title>\r\n<polygon fill=\"#39e581\" stroke=\"black\" points=\"291,-68 175,-68 175,0 291,0 291,-68\"/>\r\n<text text-anchor=\"middle\" x=\"233\" y=\"-52.8\" font-family=\"Times New Roman,serif\" font-size=\"14.00\">gini = 0.0</text>\r\n<text text-anchor=\"middle\" x=\"233\" y=\"-37.8\" font-family=\"Times New Roman,serif\" font-size=\"14.00\">samples = 2</text>\r\n<text text-anchor=\"middle\" x=\"233\" y=\"-22.8\" font-family=\"Times New Roman,serif\" font-size=\"14.00\">value = [0, 2, 0]</text>\r\n<text text-anchor=\"middle\" x=\"233\" y=\"-7.8\" font-family=\"Times New Roman,serif\" font-size=\"14.00\">class = versicolor</text>\r\n</g>\r\n<!-- 9&#45;&gt;10 -->\r\n<g id=\"edge10\" class=\"edge\">\r\n<title>9&#45;&gt;10</title>\r\n<path fill=\"none\" stroke=\"black\" d=\"M307.06,-103.73C297.04,-94.42 286.39,-84.54 276.39,-75.26\"/>\r\n<polygon fill=\"black\" stroke=\"black\" points=\"278.6,-72.54 268.88,-68.3 273.83,-77.67 278.6,-72.54\"/>\r\n</g>\r\n<!-- 11 -->\r\n<g id=\"node12\" class=\"node\">\r\n<title>11</title>\r\n<polygon fill=\"#8139e5\" stroke=\"black\" points=\"416.5,-68 309.5,-68 309.5,0 416.5,0 416.5,-68\"/>\r\n<text text-anchor=\"middle\" x=\"363\" y=\"-52.8\" font-family=\"Times New Roman,serif\" font-size=\"14.00\">gini = 0.0</text>\r\n<text text-anchor=\"middle\" x=\"363\" y=\"-37.8\" font-family=\"Times New Roman,serif\" font-size=\"14.00\">samples = 1</text>\r\n<text text-anchor=\"middle\" x=\"363\" y=\"-22.8\" font-family=\"Times New Roman,serif\" font-size=\"14.00\">value = [0, 0, 1]</text>\r\n<text text-anchor=\"middle\" x=\"363\" y=\"-7.8\" font-family=\"Times New Roman,serif\" font-size=\"14.00\">class = virginica</text>\r\n</g>\r\n<!-- 9&#45;&gt;11 -->\r\n<g id=\"edge11\" class=\"edge\">\r\n<title>9&#45;&gt;11</title>\r\n<path fill=\"none\" stroke=\"black\" d=\"M355.47,-103.73C356.38,-95.43 357.34,-86.67 358.26,-78.28\"/>\r\n<polygon fill=\"black\" stroke=\"black\" points=\"361.74,-78.62 359.35,-68.3 354.78,-77.86 361.74,-78.62\"/>\r\n</g>\r\n<!-- 13 -->\r\n<g id=\"node14\" class=\"node\">\r\n<title>13</title>\r\n<polygon fill=\"#c09cf2\" stroke=\"black\" points=\"608,-187 448,-187 448,-104 608,-104 608,-187\"/>\r\n<text text-anchor=\"middle\" x=\"528\" y=\"-171.8\" font-family=\"Times New Roman,serif\" font-size=\"14.00\">sepal length (cm) &lt;= 5.95</text>\r\n<text text-anchor=\"middle\" x=\"528\" y=\"-156.8\" font-family=\"Times New Roman,serif\" font-size=\"14.00\">gini = 0.444</text>\r\n<text text-anchor=\"middle\" x=\"528\" y=\"-141.8\" font-family=\"Times New Roman,serif\" font-size=\"14.00\">samples = 3</text>\r\n<text text-anchor=\"middle\" x=\"528\" y=\"-126.8\" font-family=\"Times New Roman,serif\" font-size=\"14.00\">value = [0, 1, 2]</text>\r\n<text text-anchor=\"middle\" x=\"528\" y=\"-111.8\" font-family=\"Times New Roman,serif\" font-size=\"14.00\">class = virginica</text>\r\n</g>\r\n<!-- 12&#45;&gt;13 -->\r\n<g id=\"edge13\" class=\"edge\">\r\n<title>12&#45;&gt;13</title>\r\n<path fill=\"none\" stroke=\"black\" d=\"M528,-222.91C528,-214.65 528,-205.86 528,-197.3\"/>\r\n<polygon fill=\"black\" stroke=\"black\" points=\"531.5,-197.02 528,-187.02 524.5,-197.02 531.5,-197.02\"/>\r\n</g>\r\n<!-- 16 -->\r\n<g id=\"node17\" class=\"node\">\r\n<title>16</title>\r\n<polygon fill=\"#8139e5\" stroke=\"black\" points=\"738,-179.5 626,-179.5 626,-111.5 738,-111.5 738,-179.5\"/>\r\n<text text-anchor=\"middle\" x=\"682\" y=\"-164.3\" font-family=\"Times New Roman,serif\" font-size=\"14.00\">gini = 0.0</text>\r\n<text text-anchor=\"middle\" x=\"682\" y=\"-149.3\" font-family=\"Times New Roman,serif\" font-size=\"14.00\">samples = 34</text>\r\n<text text-anchor=\"middle\" x=\"682\" y=\"-134.3\" font-family=\"Times New Roman,serif\" font-size=\"14.00\">value = [0, 0, 34]</text>\r\n<text text-anchor=\"middle\" x=\"682\" y=\"-119.3\" font-family=\"Times New Roman,serif\" font-size=\"14.00\">class = virginica</text>\r\n</g>\r\n<!-- 12&#45;&gt;16 -->\r\n<g id=\"edge16\" class=\"edge\">\r\n<title>12&#45;&gt;16</title>\r\n<path fill=\"none\" stroke=\"black\" d=\"M581.43,-222.91C597.26,-210.88 614.56,-197.73 630.28,-185.79\"/>\r\n<polygon fill=\"black\" stroke=\"black\" points=\"632.5,-188.5 638.34,-179.67 628.26,-182.93 632.5,-188.5\"/>\r\n</g>\r\n<!-- 14 -->\r\n<g id=\"node15\" class=\"node\">\r\n<title>14</title>\r\n<polygon fill=\"#39e581\" stroke=\"black\" points=\"574,-68 458,-68 458,0 574,0 574,-68\"/>\r\n<text text-anchor=\"middle\" x=\"516\" y=\"-52.8\" font-family=\"Times New Roman,serif\" font-size=\"14.00\">gini = 0.0</text>\r\n<text text-anchor=\"middle\" x=\"516\" y=\"-37.8\" font-family=\"Times New Roman,serif\" font-size=\"14.00\">samples = 1</text>\r\n<text text-anchor=\"middle\" x=\"516\" y=\"-22.8\" font-family=\"Times New Roman,serif\" font-size=\"14.00\">value = [0, 1, 0]</text>\r\n<text text-anchor=\"middle\" x=\"516\" y=\"-7.8\" font-family=\"Times New Roman,serif\" font-size=\"14.00\">class = versicolor</text>\r\n</g>\r\n<!-- 13&#45;&gt;14 -->\r\n<g id=\"edge14\" class=\"edge\">\r\n<title>13&#45;&gt;14</title>\r\n<path fill=\"none\" stroke=\"black\" d=\"M523.53,-103.73C522.62,-95.43 521.66,-86.67 520.74,-78.28\"/>\r\n<polygon fill=\"black\" stroke=\"black\" points=\"524.22,-77.86 519.65,-68.3 517.26,-78.62 524.22,-77.86\"/>\r\n</g>\r\n<!-- 15 -->\r\n<g id=\"node16\" class=\"node\">\r\n<title>15</title>\r\n<polygon fill=\"#8139e5\" stroke=\"black\" points=\"699.5,-68 592.5,-68 592.5,0 699.5,0 699.5,-68\"/>\r\n<text text-anchor=\"middle\" x=\"646\" y=\"-52.8\" font-family=\"Times New Roman,serif\" font-size=\"14.00\">gini = 0.0</text>\r\n<text text-anchor=\"middle\" x=\"646\" y=\"-37.8\" font-family=\"Times New Roman,serif\" font-size=\"14.00\">samples = 2</text>\r\n<text text-anchor=\"middle\" x=\"646\" y=\"-22.8\" font-family=\"Times New Roman,serif\" font-size=\"14.00\">value = [0, 0, 2]</text>\r\n<text text-anchor=\"middle\" x=\"646\" y=\"-7.8\" font-family=\"Times New Roman,serif\" font-size=\"14.00\">class = virginica</text>\r\n</g>\r\n<!-- 13&#45;&gt;15 -->\r\n<g id=\"edge15\" class=\"edge\">\r\n<title>13&#45;&gt;15</title>\r\n<path fill=\"none\" stroke=\"black\" d=\"M571.94,-103.73C581.96,-94.42 592.61,-84.54 602.61,-75.26\"/>\r\n<polygon fill=\"black\" stroke=\"black\" points=\"605.17,-77.67 610.12,-68.3 600.4,-72.54 605.17,-77.67\"/>\r\n</g>\r\n</g>\r\n</svg>\r\n"
     },
     "metadata": {},
     "execution_count": 134
    }
   ],
   "source": [
    "# 의사 결정 나무 \n",
    "from sklearn.tree import export_graphviz\n",
    "export_graphviz(\n",
    "    dt_clf, out_file= 'tree.dot',\n",
    "    class_names = iris.target_names,\n",
    "    feature_names= iris.feature_names,\n",
    "    impurity= True, filled=True \n",
    ")\n",
    "import graphviz\n",
    "\n",
    "with open('tree.dot','r') as f:\n",
    "    dot_graph = f.read()\n",
    "graphviz.Source(dot_graph)"
   ]
  },
  {
   "cell_type": "code",
   "execution_count": 117,
   "metadata": {},
   "outputs": [],
   "source": [
    "    class_names = df_참외_메론_수박_scaling.columns,\n",
    "    feature_names= df_참외_메론_수박_scaling['참외_메론_수박'].values,"
   ]
  },
  {
   "cell_type": "code",
   "execution_count": 66,
   "metadata": {},
   "outputs": [],
   "source": [
    "from lightgbm import LGBMRegressor\n",
    "from lightgbm import LGBMClassifier\n",
    "from lightgbm import plot_tree\n",
    "import lightgbm as lgb"
   ]
  },
  {
   "cell_type": "code",
   "execution_count": 94,
   "metadata": {},
   "outputs": [
    {
     "output_type": "execute_result",
     "data": {
      "text/plain": [
       "LGBMClassifier()"
      ]
     },
     "metadata": {},
     "execution_count": 94
    }
   ],
   "source": [
    "lgb_clf = lgb.LGBMClassifier()\n",
    "lgb_clf.fit(df_참외_메론_수박_scaling.iloc[:,:-1], df_참외_메론_수박_scaling.iloc[:,-1])"
   ]
  },
  {
   "cell_type": "code",
   "execution_count": 139,
   "metadata": {},
   "outputs": [
    {
     "output_type": "error",
     "ename": "ImportError",
     "evalue": "You must install graphviz to plot tree.",
     "traceback": [
      "\u001b[1;31m---------------------------------------------------------------------------\u001b[0m",
      "\u001b[1;31mImportError\u001b[0m                               Traceback (most recent call last)",
      "\u001b[1;32m<ipython-input-139-9521ee93e704>\u001b[0m in \u001b[0;36m<module>\u001b[1;34m\u001b[0m\n\u001b[0;32m      2\u001b[0m \u001b[0mfig2\u001b[0m \u001b[1;33m=\u001b[0m \u001b[0mplt\u001b[0m\u001b[1;33m.\u001b[0m\u001b[0mfigure\u001b[0m\u001b[1;33m(\u001b[0m\u001b[0mfigsize\u001b[0m\u001b[1;33m=\u001b[0m\u001b[1;33m(\u001b[0m\u001b[1;36m20\u001b[0m\u001b[1;33m,\u001b[0m \u001b[1;36m20\u001b[0m\u001b[1;33m)\u001b[0m\u001b[1;33m)\u001b[0m\u001b[1;33m\u001b[0m\u001b[1;33m\u001b[0m\u001b[0m\n\u001b[0;32m      3\u001b[0m \u001b[0max\u001b[0m \u001b[1;33m=\u001b[0m \u001b[0mfig2\u001b[0m\u001b[1;33m.\u001b[0m\u001b[0msubplots\u001b[0m\u001b[1;33m(\u001b[0m\u001b[1;33m)\u001b[0m\u001b[1;33m\u001b[0m\u001b[1;33m\u001b[0m\u001b[0m\n\u001b[1;32m----> 4\u001b[1;33m \u001b[0mlgb\u001b[0m\u001b[1;33m.\u001b[0m\u001b[0mplot_tree\u001b[0m\u001b[1;33m(\u001b[0m\u001b[0mlgb_clf\u001b[0m\u001b[1;33m,\u001b[0m \u001b[0mtree_index\u001b[0m\u001b[1;33m=\u001b[0m\u001b[1;36m1\u001b[0m\u001b[1;33m,\u001b[0m \u001b[0max\u001b[0m\u001b[1;33m=\u001b[0m\u001b[0max\u001b[0m\u001b[1;33m)\u001b[0m\u001b[1;33m\u001b[0m\u001b[1;33m\u001b[0m\u001b[0m\n\u001b[0m\u001b[0;32m      5\u001b[0m \u001b[0mplt\u001b[0m\u001b[1;33m.\u001b[0m\u001b[0mshow\u001b[0m\u001b[1;33m(\u001b[0m\u001b[1;33m)\u001b[0m\u001b[1;33m\u001b[0m\u001b[1;33m\u001b[0m\u001b[0m\n",
      "\u001b[1;32m~\\anaconda3\\envs\\pythonHK\\lib\\site-packages\\lightgbm\\plotting.py\u001b[0m in \u001b[0;36mplot_tree\u001b[1;34m(booster, ax, tree_index, figsize, dpi, show_info, precision, orientation, **kwargs)\u001b[0m\n\u001b[0;32m    615\u001b[0m         \u001b[0m_\u001b[0m\u001b[1;33m,\u001b[0m \u001b[0max\u001b[0m \u001b[1;33m=\u001b[0m \u001b[0mplt\u001b[0m\u001b[1;33m.\u001b[0m\u001b[0msubplots\u001b[0m\u001b[1;33m(\u001b[0m\u001b[1;36m1\u001b[0m\u001b[1;33m,\u001b[0m \u001b[1;36m1\u001b[0m\u001b[1;33m,\u001b[0m \u001b[0mfigsize\u001b[0m\u001b[1;33m=\u001b[0m\u001b[0mfigsize\u001b[0m\u001b[1;33m,\u001b[0m \u001b[0mdpi\u001b[0m\u001b[1;33m=\u001b[0m\u001b[0mdpi\u001b[0m\u001b[1;33m)\u001b[0m\u001b[1;33m\u001b[0m\u001b[1;33m\u001b[0m\u001b[0m\n\u001b[0;32m    616\u001b[0m \u001b[1;33m\u001b[0m\u001b[0m\n\u001b[1;32m--> 617\u001b[1;33m     graph = create_tree_digraph(booster=booster, tree_index=tree_index,\n\u001b[0m\u001b[0;32m    618\u001b[0m                                 \u001b[0mshow_info\u001b[0m\u001b[1;33m=\u001b[0m\u001b[0mshow_info\u001b[0m\u001b[1;33m,\u001b[0m \u001b[0mprecision\u001b[0m\u001b[1;33m=\u001b[0m\u001b[0mprecision\u001b[0m\u001b[1;33m,\u001b[0m\u001b[1;33m\u001b[0m\u001b[1;33m\u001b[0m\u001b[0m\n\u001b[0;32m    619\u001b[0m                                 orientation=orientation, **kwargs)\n",
      "\u001b[1;32m~\\anaconda3\\envs\\pythonHK\\lib\\site-packages\\lightgbm\\plotting.py\u001b[0m in \u001b[0;36mcreate_tree_digraph\u001b[1;34m(booster, tree_index, show_info, precision, orientation, **kwargs)\u001b[0m\n\u001b[0;32m    542\u001b[0m         \u001b[0mshow_info\u001b[0m \u001b[1;33m=\u001b[0m \u001b[1;33m[\u001b[0m\u001b[1;33m]\u001b[0m\u001b[1;33m\u001b[0m\u001b[1;33m\u001b[0m\u001b[0m\n\u001b[0;32m    543\u001b[0m \u001b[1;33m\u001b[0m\u001b[0m\n\u001b[1;32m--> 544\u001b[1;33m     graph = _to_graphviz(tree_info, show_info, feature_names, precision,\n\u001b[0m\u001b[0;32m    545\u001b[0m                          orientation, monotone_constraints, **kwargs)\n\u001b[0;32m    546\u001b[0m \u001b[1;33m\u001b[0m\u001b[0m\n",
      "\u001b[1;32m~\\anaconda3\\envs\\pythonHK\\lib\\site-packages\\lightgbm\\plotting.py\u001b[0m in \u001b[0;36m_to_graphviz\u001b[1;34m(tree_info, show_info, feature_names, precision, orientation, constraints, **kwargs)\u001b[0m\n\u001b[0;32m    385\u001b[0m         \u001b[1;32mfrom\u001b[0m \u001b[0mgraphviz\u001b[0m \u001b[1;32mimport\u001b[0m \u001b[0mDigraph\u001b[0m\u001b[1;33m\u001b[0m\u001b[1;33m\u001b[0m\u001b[0m\n\u001b[0;32m    386\u001b[0m     \u001b[1;32melse\u001b[0m\u001b[1;33m:\u001b[0m\u001b[1;33m\u001b[0m\u001b[1;33m\u001b[0m\u001b[0m\n\u001b[1;32m--> 387\u001b[1;33m         \u001b[1;32mraise\u001b[0m \u001b[0mImportError\u001b[0m\u001b[1;33m(\u001b[0m\u001b[1;34m'You must install graphviz to plot tree.'\u001b[0m\u001b[1;33m)\u001b[0m\u001b[1;33m\u001b[0m\u001b[1;33m\u001b[0m\u001b[0m\n\u001b[0m\u001b[0;32m    388\u001b[0m \u001b[1;33m\u001b[0m\u001b[0m\n\u001b[0;32m    389\u001b[0m     \u001b[1;32mdef\u001b[0m \u001b[0madd\u001b[0m\u001b[1;33m(\u001b[0m\u001b[0mroot\u001b[0m\u001b[1;33m,\u001b[0m \u001b[0mtotal_count\u001b[0m\u001b[1;33m,\u001b[0m \u001b[0mparent\u001b[0m\u001b[1;33m=\u001b[0m\u001b[1;32mNone\u001b[0m\u001b[1;33m,\u001b[0m \u001b[0mdecision\u001b[0m\u001b[1;33m=\u001b[0m\u001b[1;32mNone\u001b[0m\u001b[1;33m)\u001b[0m\u001b[1;33m:\u001b[0m\u001b[1;33m\u001b[0m\u001b[1;33m\u001b[0m\u001b[0m\n",
      "\u001b[1;31mImportError\u001b[0m: You must install graphviz to plot tree."
     ]
    }
   ],
   "source": [
    "import matplotlib.pyplot as plt\n",
    "fig2 = plt.figure(figsize=(20, 20))\n",
    "ax = fig2.subplots()\n",
    "lgb.plot_tree(lgb_clf, tree_index=1, ax=ax)\n",
    "plt.show()"
   ]
  },
  {
   "cell_type": "code",
   "execution_count": 109,
   "metadata": {},
   "outputs": [
    {
     "output_type": "execute_result",
     "data": {
      "text/plain": [
       "Index(['평균기온', '최저기온', '최고기온', '일강수량', '평균이슬점온도', '최소상대습도', '평균상대습도', '합계일조시간',\n",
       "       '합계일사량', '평균지면온도', '합계대형증발량', '합계소형증발량', '참외_메론_수박'],\n",
       "      dtype='object')"
      ]
     },
     "metadata": {},
     "execution_count": 109
    }
   ],
   "source": [
    "df_참외_메론_수박_scaling.columns[:]"
   ]
  },
  {
   "cell_type": "code",
   "execution_count": 110,
   "metadata": {},
   "outputs": [
    {
     "output_type": "execute_result",
     "data": {
      "text/plain": [
       "Index(['평균기온', '최저기온', '최고기온', '일강수량', '평균이슬점온도', '최소상대습도', '평균상대습도', '합계일조시간',\n",
       "       '합계일사량', '평균지면온도', '합계대형증발량', '합계소형증발량'],\n",
       "      dtype='object')"
      ]
     },
     "metadata": {},
     "execution_count": 110
    }
   ],
   "source": [
    "df_참외_메론_수박_scaling.columns[:-1]"
   ]
  }
 ],
 "metadata": {
  "interpreter": {
   "hash": "62451998a06cf5ba2746f3d8b4c2b71aad3b2e1f1be2af1479ae958b50a1bdcf"
  },
  "kernelspec": {
   "name": "python3",
   "display_name": "Python 3.8.10 64-bit ('pythonHK': conda)"
  },
  "language_info": {
   "codemirror_mode": {
    "name": "ipython",
    "version": 3
   },
   "file_extension": ".py",
   "mimetype": "text/x-python",
   "name": "python",
   "nbconvert_exporter": "python",
   "pygments_lexer": "ipython3",
   "version": "3.8.10"
  },
  "orig_nbformat": 4
 },
 "nbformat": 4,
 "nbformat_minor": 2
}